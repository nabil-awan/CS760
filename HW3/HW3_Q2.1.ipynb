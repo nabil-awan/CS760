{
 "cells": [
  {
   "cell_type": "code",
   "execution_count": null,
   "id": "d81e6f7a",
   "metadata": {},
   "outputs": [],
   "source": [
    "import numpy as np\n",
    "import matplotlib.pyplot as plt\n",
    "import pandas as pd\n",
    "import math\n",
    "\n",
    "\n",
    "def euclidean_distance(a, b):\n",
    "    distance = 0\n",
    "    a = np.array(a)\n",
    "    b = np.array(b)\n",
    "    for d in range(len(b)):\n",
    "        distance += abs(a[d] - b[d]) ** 2\n",
    "\n",
    "    distance = distance ** (1 / 2)\n",
    "\n",
    "    return distance\n",
    "if __name__ == '__main__':\n",
    "    print('\\n-------------- Q 2.1 ------------------------')\n",
    "\n",
    "    data = pd.read_table('D2z.txt', sep=\" \", header=None, names=[\"X1\", \"X2\", \"Y\"])\n",
    "\n",
    "    # Split Features and target\n",
    "    X, y = data.drop([data.columns[-1]], axis=1), data[data.columns[-1]]\n",
    "\n",
    "    testdata = {'X1': [], 'X2': [], 'Y': []}\n",
    "    f1 = np.arange(-2.0, 2.1, 0.1)\n",
    "    f2 = np.arange(-2.0, 2.1, 0.1)\n",
    "    for x1 in f1:\n",
    "        for x2 in f2:\n",
    "            testdata['X1'].append(x1)\n",
    "            testdata['X2'].append(x2)\n",
    "            testdata['Y'].append(-1)\n",
    "\n",
    "    test = pd.DataFrame(testdata)\n",
    "    testX = test.drop([test.columns[-1]], axis=1)\n",
    "    for testIndex in testX.index:\n",
    "        distances = []\n",
    "        for index in X.index:\n",
    "            distances.append(euclidean_distance(testX.iloc[testIndex], X.iloc[index]))\n",
    "        minpos = distances.index(min(distances))\n",
    "        test.at[testIndex, \"Y\"] = data.iloc[minpos][\"Y\"]\n",
    "        # print(test.iloc[testIndex])\n",
    "\n",
    "    plt.scatter(test['X1'], test['X2'], c=test['Y'],alpha=0.1)\n",
    "    plt.scatter(data['X1'], data['X2'], c=data['Y'], marker='x')\n",
    "    plt.show()"
   ]
  }
 ],
 "metadata": {
  "kernelspec": {
   "display_name": "Python 3 (ipykernel)",
   "language": "python",
   "name": "python3"
  },
  "language_info": {
   "codemirror_mode": {
    "name": "ipython",
    "version": 3
   },
   "file_extension": ".py",
   "mimetype": "text/x-python",
   "name": "python",
   "nbconvert_exporter": "python",
   "pygments_lexer": "ipython3",
   "version": "3.11.4"
  }
 },
 "nbformat": 4,
 "nbformat_minor": 5
}
